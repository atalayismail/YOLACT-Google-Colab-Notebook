{
  "nbformat": 4,
  "nbformat_minor": 0,
  "metadata": {
    "colab": {
      "name": "YOLACT Google Colab Notebook.ipynb",
      "provenance": []
    },
    "kernelspec": {
      "name": "python3",
      "display_name": "Python 3"
    }
  },
  "cells": [
    {
      "cell_type": "code",
      "metadata": {
        "id": "sB9GMWixfVdR"
      },
      "source": [
        "!pip install cython\r\n",
        "!pip install opencv-python pillow pycocotools matplotlib"
      ],
      "execution_count": null,
      "outputs": []
    },
    {
      "cell_type": "code",
      "metadata": {
        "id": "ml6sxkupfbdx"
      },
      "source": [
        "# Make sure we're in the top folder\r\n",
        "%cd /content\r\n",
        "\r\n",
        "# Clone the repo\r\n",
        "!git clone https://github.com/dbolya/yolact.git"
      ],
      "execution_count": null,
      "outputs": []
    },
    {
      "cell_type": "code",
      "metadata": {
        "id": "svJZLFuBfe-L"
      },
      "source": [
        "# Change to the right directory\r\n",
        "%cd /content/yolact/external/DCNv2\r\n",
        "\r\n",
        "# Build DCNv2\r\n",
        "!python setup.py build develop"
      ],
      "execution_count": null,
      "outputs": []
    },
    {
      "cell_type": "code",
      "metadata": {
        "id": "mb0qRG6tiVC3"
      },
      "source": [
        "!pip install git+https://github.com/philferriere/cocoapi.git#subdirectory=PythonAPI"
      ],
      "execution_count": null,
      "outputs": []
    },
    {
      "cell_type": "code",
      "metadata": {
        "id": "Dzw9GWWgiXhI"
      },
      "source": [
        "!pip install torch==1.6.0+cu101 torchvision==0.7.0+cu101 -f https://download.pytorch.org/whl/torch_stable.html"
      ],
      "execution_count": null,
      "outputs": []
    },
    {
      "cell_type": "code",
      "metadata": {
        "id": "BYDD1dV5ial4"
      },
      "source": [
        "#Download resnet model\r\n",
        "!gdown --id 1Jy3yCdbatgXa5YYIdTCRrSV0S9V5g1rn"
      ],
      "execution_count": null,
      "outputs": []
    },
    {
      "cell_type": "code",
      "metadata": {
        "id": "eFNDDHDhigLK"
      },
      "source": [
        "%cd /content/yolact/"
      ],
      "execution_count": null,
      "outputs": []
    },
    {
      "cell_type": "code",
      "metadata": {
        "id": "YgBK2tD7iiP8"
      },
      "source": [
        "!python ./train.py --config=yolact_resnet50_cig_butts_config --batch_size 17"
      ],
      "execution_count": null,
      "outputs": []
    },
    {
      "cell_type": "code",
      "metadata": {
        "id": "DH72sodsirdr"
      },
      "source": [
        "#if you want to resume it use below code\r\n",
        "\r\n",
        "#!python ./train.py --config=yolact_resnet50_cig_butts_config --resume=/content/yolact/weights/yolact_plus_resnet50_cig_butts_1524_15240_interrupt.pth --start_iter=-1"
      ],
      "execution_count": null,
      "outputs": []
    },
    {
      "cell_type": "code",
      "metadata": {
        "id": "B7tw1CSNiu7K"
      },
      "source": [
        "!python eval.py --trained_model=/content/yolact/weights/yolact_plus_resnet50_cig_butts_1612_3224_interrupt.pth --config=yolact_resnet50_cig_butts_config --score_threshold=0.3 --top_k=15 --images='/content/yolact/val':output_images"
      ],
      "execution_count": null,
      "outputs": []
    },
    {
      "cell_type": "code",
      "metadata": {
        "id": "oEb1V-4eiyyC"
      },
      "source": [
        "output_path = \"/content/output_videos/worker_output.mp4\""
      ],
      "execution_count": null,
      "outputs": []
    },
    {
      "cell_type": "code",
      "metadata": {
        "id": "WHcS0CADiy1u"
      },
      "source": [
        "file_path = '/content/yolact/MVI_1577_Trim.mp4' # <- this is the destination path"
      ],
      "execution_count": null,
      "outputs": []
    },
    {
      "cell_type": "code",
      "metadata": {
        "id": "bpuHZGRyiy4k"
      },
      "source": [
        "!python eval.py --trained_model=/content/yolact/weights/yolact_plus_resnet50_cig_butts_206_2067_interrupt.pth --config=yolact_resnet50_cig_butts_config --score_threshold=0.5 --top_k=15 --video_multiframe=4 --video={file_path}:{output_path}"
      ],
      "execution_count": null,
      "outputs": []
    },
    {
      "cell_type": "code",
      "metadata": {
        "id": "JtBJ-QNUiy7J"
      },
      "source": [
        ""
      ],
      "execution_count": null,
      "outputs": []
    }
  ]
}